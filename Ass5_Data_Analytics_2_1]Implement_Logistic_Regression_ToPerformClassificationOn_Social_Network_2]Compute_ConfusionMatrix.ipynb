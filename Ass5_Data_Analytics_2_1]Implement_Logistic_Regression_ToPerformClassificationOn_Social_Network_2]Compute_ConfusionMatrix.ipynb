{
 "cells": [
  {
   "cell_type": "code",
   "execution_count": null,
   "id": "685c0071",
   "metadata": {},
   "outputs": [],
   "source": [
    "import pandas as pd\n",
    "import numpy as np\n",
    "import matplotlib.pyplot as plt\n",
    "%matplotlib inline"
   ]
  },
  {
   "cell_type": "markdown",
   "id": "a5daa0a8",
   "metadata": {},
   "source": [
    "### Read CSV into dataframe"
   ]
  },
  {
   "cell_type": "code",
   "execution_count": null,
   "id": "94e941e9",
   "metadata": {},
   "outputs": [],
   "source": [
    "df = pd.read_csv('./Datasets/social_network_ads.csv')"
   ]
  },
  {
   "cell_type": "code",
   "execution_count": null,
   "id": "23f94f45",
   "metadata": {},
   "outputs": [],
   "source": [
    "df"
   ]
  },
  {
   "cell_type": "markdown",
   "id": "28523aa1",
   "metadata": {},
   "source": [
    "### Data preprocessing"
   ]
  },
  {
   "cell_type": "code",
   "execution_count": null,
   "id": "c2a72f84",
   "metadata": {},
   "outputs": [],
   "source": [
    "df.shape"
   ]
  },
  {
   "cell_type": "code",
   "execution_count": null,
   "id": "a33769b8",
   "metadata": {},
   "outputs": [],
   "source": [
    "df.columns"
   ]
  },
  {
   "cell_type": "code",
   "execution_count": null,
   "id": "f84d28f8",
   "metadata": {},
   "outputs": [],
   "source": [
    "df.dtypes"
   ]
  },
  {
   "cell_type": "code",
   "execution_count": null,
   "id": "199ebea0",
   "metadata": {},
   "outputs": [],
   "source": [
    "df.info()"
   ]
  },
  {
   "cell_type": "code",
   "execution_count": null,
   "id": "9d642ea5",
   "metadata": {},
   "outputs": [],
   "source": [
    "df.describe()"
   ]
  },
  {
   "cell_type": "code",
   "execution_count": null,
   "id": "87b50999",
   "metadata": {},
   "outputs": [],
   "source": [
    "x = df.iloc[:,[2,3]].values"
   ]
  },
  {
   "cell_type": "code",
   "execution_count": null,
   "id": "ecce5d1a",
   "metadata": {},
   "outputs": [],
   "source": [
    "x"
   ]
  },
  {
   "cell_type": "code",
   "execution_count": null,
   "id": "bc1beffe",
   "metadata": {},
   "outputs": [],
   "source": [
    "y = df.iloc[:,4].values"
   ]
  },
  {
   "cell_type": "code",
   "execution_count": null,
   "id": "7d9d053e",
   "metadata": {},
   "outputs": [],
   "source": [
    "y"
   ]
  },
  {
   "cell_type": "markdown",
   "id": "b76594d2",
   "metadata": {},
   "source": [
    "### Spliting Data into 75% training and 25% testing data"
   ]
  },
  {
   "cell_type": "code",
   "execution_count": null,
   "id": "f257e495",
   "metadata": {},
   "outputs": [],
   "source": [
    "from sklearn.model_selection import train_test_split\n",
    "x_train,x_test,y_train,y_test = train_test_split(x,y,test_size=0.25,random_state=42)"
   ]
  },
  {
   "cell_type": "code",
   "execution_count": null,
   "id": "924a4a91",
   "metadata": {},
   "outputs": [],
   "source": [
    "x_train"
   ]
  },
  {
   "cell_type": "code",
   "execution_count": null,
   "id": "1dd37ec8",
   "metadata": {},
   "outputs": [],
   "source": [
    "x_test.shape"
   ]
  },
  {
   "cell_type": "code",
   "execution_count": null,
   "id": "de2f12ec",
   "metadata": {},
   "outputs": [],
   "source": [
    "y_test"
   ]
  },
  {
   "cell_type": "code",
   "execution_count": null,
   "id": "4848efbd",
   "metadata": {},
   "outputs": [],
   "source": [
    "y_test.shape"
   ]
  },
  {
   "cell_type": "code",
   "execution_count": null,
   "id": "eb3c8894",
   "metadata": {},
   "outputs": [],
   "source": [
    "from sklearn.preprocessing import StandardScaler\n",
    "sc_x = StandardScaler()\n",
    "x_train = sc_x.fit_transform(x_train)\n",
    "x_test = sc_x.fit_transform(x_test)"
   ]
  },
  {
   "cell_type": "code",
   "execution_count": null,
   "id": "aaee264d",
   "metadata": {},
   "outputs": [],
   "source": [
    "x_train"
   ]
  },
  {
   "cell_type": "markdown",
   "id": "6d42cd4c",
   "metadata": {},
   "source": [
    "### Intializing logistic regression model and training the model"
   ]
  },
  {
   "cell_type": "code",
   "execution_count": null,
   "id": "83778348",
   "metadata": {},
   "outputs": [],
   "source": [
    "from sklearn.linear_model import LogisticRegression\n",
    "classifier = LogisticRegression(random_state = 0)"
   ]
  },
  {
   "cell_type": "code",
   "execution_count": null,
   "id": "08586def",
   "metadata": {},
   "outputs": [],
   "source": [
    "classifier.fit(x_train,y_train)"
   ]
  },
  {
   "cell_type": "markdown",
   "id": "25f6cfa2",
   "metadata": {},
   "source": [
    "### Prediction"
   ]
  },
  {
   "cell_type": "code",
   "execution_count": null,
   "id": "d27edc60",
   "metadata": {},
   "outputs": [],
   "source": [
    "y_pred = classifier.predict(x_test)"
   ]
  },
  {
   "cell_type": "code",
   "execution_count": null,
   "id": "8a9fbc55",
   "metadata": {},
   "outputs": [],
   "source": [
    "y_pred"
   ]
  },
  {
   "cell_type": "code",
   "execution_count": null,
   "id": "3423f4c6",
   "metadata": {},
   "outputs": [],
   "source": [
    "y_test"
   ]
  },
  {
   "cell_type": "markdown",
   "id": "288d829a",
   "metadata": {},
   "source": [
    "### Confusion Matrix"
   ]
  },
  {
   "cell_type": "code",
   "execution_count": null,
   "id": "edeeb105",
   "metadata": {},
   "outputs": [],
   "source": [
    "from sklearn.metrics import confusion_matrix\n",
    "cm = confusion_matrix(y_test,y_pred)\n",
    "cm"
   ]
  },
  {
   "cell_type": "code",
   "execution_count": null,
   "id": "5c2f5c45",
   "metadata": {},
   "outputs": [],
   "source": [
    "# The confusion matrix tells us that there were 86 correct prediction and 14 wrong"
   ]
  },
  {
   "cell_type": "markdown",
   "id": "a6256a70",
   "metadata": {},
   "source": [
    "### Calculating accuracy of model"
   ]
  },
  {
   "cell_type": "code",
   "execution_count": null,
   "id": "5c804bf9",
   "metadata": {},
   "outputs": [],
   "source": [
    "from sklearn.metrics import accuracy_score\n",
    "accuracy = accuracy_score(y_test,y_pred)* 100\n",
    "accuracy"
   ]
  },
  {
   "cell_type": "code",
   "execution_count": null,
   "id": "bea69af6",
   "metadata": {},
   "outputs": [],
   "source": [
    "# True positive : Actually True, Predicted True\n",
    "tp = cm[0,[0]]\n",
    "tp"
   ]
  },
  {
   "cell_type": "code",
   "execution_count": null,
   "id": "d14efd64",
   "metadata": {},
   "outputs": [],
   "source": [
    "# False positive : Actually False, Predicted True\n",
    "fp = cm[0,[1]]\n",
    "fp"
   ]
  },
  {
   "cell_type": "code",
   "execution_count": null,
   "id": "fdc42056",
   "metadata": {},
   "outputs": [],
   "source": [
    "# True negative : Actually True, Predicted false\n",
    "fn = cm[1,[0]]\n",
    "fn"
   ]
  },
  {
   "cell_type": "code",
   "execution_count": null,
   "id": "83b54fb6",
   "metadata": {},
   "outputs": [],
   "source": [
    "# Flase negative : Actually Flase, predicted false\n",
    "tn = cm[1,[1]]\n",
    "tn"
   ]
  },
  {
   "cell_type": "code",
   "execution_count": null,
   "id": "98bd7555",
   "metadata": {},
   "outputs": [],
   "source": [
    "# Accuracy\n",
    "accuracy_cm = ((tp+tn)/(tp+fp+tn+fn))\n",
    "accuracy_cm*100"
   ]
  },
  {
   "cell_type": "code",
   "execution_count": null,
   "id": "8c973fa1",
   "metadata": {},
   "outputs": [],
   "source": [
    "# Error Rate\n",
    "error_rate_cm = ((fp + fn)/(tp + fp + fn + tn))\n",
    "error_rate_cm*100"
   ]
  },
  {
   "cell_type": "code",
   "execution_count": null,
   "id": "31805b7f",
   "metadata": {},
   "outputs": [],
   "source": [
    "# Precision\n",
    "precision_cm = (tp/(tp + fp))\n",
    "precision_cm*100"
   ]
  },
  {
   "cell_type": "code",
   "execution_count": null,
   "id": "42255e20",
   "metadata": {},
   "outputs": [],
   "source": [
    "# Recall - also called as sensitivity\n",
    "recall_cm = (tp/(tp+fn))\n",
    "recall_cm*100"
   ]
  },
  {
   "cell_type": "code",
   "execution_count": null,
   "id": "45a63bf9",
   "metadata": {},
   "outputs": [],
   "source": [
    "specificity_cm = (tn/(tn+fp))\n",
    "specificity_cm*100"
   ]
  },
  {
   "cell_type": "code",
   "execution_count": null,
   "id": "71920225",
   "metadata": {},
   "outputs": [],
   "source": []
  }
 ],
 "metadata": {
  "kernelspec": {
   "display_name": "Python 3 (ipykernel)",
   "language": "python",
   "name": "python3"
  },
  "language_info": {
   "codemirror_mode": {
    "name": "ipython",
    "version": 3
   },
   "file_extension": ".py",
   "mimetype": "text/x-python",
   "name": "python",
   "nbconvert_exporter": "python",
   "pygments_lexer": "ipython3",
   "version": "3.10.6"
  }
 },
 "nbformat": 4,
 "nbformat_minor": 5
}
