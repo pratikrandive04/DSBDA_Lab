{
 "cells": [
  {
   "cell_type": "code",
   "execution_count": null,
   "id": "3cb5d0fa",
   "metadata": {},
   "outputs": [],
   "source": [
    "# Import required libraries\n",
    "import pandas as pd\n",
    "import numpy as np"
   ]
  },
  {
   "cell_type": "code",
   "execution_count": null,
   "id": "718856cd",
   "metadata": {},
   "outputs": [],
   "source": [
    "# Load dataset into pandas dataframe\n",
    "df = pd.read_csv('./Datasets/train.csv')"
   ]
  },
  {
   "cell_type": "code",
   "execution_count": null,
   "id": "6e2e52e3",
   "metadata": {},
   "outputs": [],
   "source": [
    "df"
   ]
  },
  {
   "cell_type": "code",
   "execution_count": null,
   "id": "c378979e",
   "metadata": {},
   "outputs": [],
   "source": [
    "# Check the dimensions of dataframe. It gives number of rows and columns present in dataset \n",
    "df.shape "
   ]
  },
  {
   "cell_type": "code",
   "execution_count": null,
   "id": "a8dde2b6",
   "metadata": {},
   "outputs": [],
   "source": [
    "# Check the columns present in dataset\n",
    "df.columns"
   ]
  },
  {
   "cell_type": "code",
   "execution_count": null,
   "id": "44e6419f",
   "metadata": {},
   "outputs": [],
   "source": [
    "# Check total size (rows * columns)\n",
    "df.size"
   ]
  },
  {
   "cell_type": "code",
   "execution_count": null,
   "id": "c4259fe9",
   "metadata": {},
   "outputs": [],
   "source": [
    "# Check the datatypes of each column\n",
    "df.dtypes"
   ]
  },
  {
   "cell_type": "code",
   "execution_count": null,
   "id": "f10d9388",
   "metadata": {},
   "outputs": [],
   "source": [
    "# Check for missing values. This give the count of missing values of each column in dataset\n",
    "df.isnull().sum()"
   ]
  },
  {
   "cell_type": "code",
   "execution_count": null,
   "id": "f8d8cf15",
   "metadata": {},
   "outputs": [],
   "source": [
    "# Check the initial statistics. It gives mean, standard deviation, 1st quantile, 2nd quntile, 3rd quntile and max value of each\n",
    "# column of dataset\n",
    "df.describe()"
   ]
  },
  {
   "cell_type": "code",
   "execution_count": null,
   "id": "e2c07e1d",
   "metadata": {},
   "outputs": [],
   "source": [
    "df.info()"
   ]
  },
  {
   "cell_type": "code",
   "execution_count": null,
   "id": "a17151fe",
   "metadata": {},
   "outputs": [],
   "source": [
    "# HANDEL MISSING VALUES"
   ]
  },
  {
   "cell_type": "code",
   "execution_count": null,
   "id": "20faa03e",
   "metadata": {},
   "outputs": [],
   "source": [
    "#1. fillna() : method we can use to replace null(NaN) value with some other. We can perfrom forward fill(ffill) and backword fill(bfill)\n",
    "\n",
    "#2. interpolation() : Perform liner interpolation\n",
    "\n",
    "#3. dropna() : It will drop all the rows that have NaN values. But by performing this operation we may loss data."
   ]
  },
  {
   "cell_type": "code",
   "execution_count": null,
   "id": "dabbfb89",
   "metadata": {},
   "outputs": [],
   "source": [
    "df.columns"
   ]
  },
  {
   "cell_type": "code",
   "execution_count": null,
   "id": "b1102c5d",
   "metadata": {},
   "outputs": [],
   "source": [
    "# This will replace all the values in column 'cabin' which are NaN with unknown value\n",
    "df['cabin'] = df['cabin'].replace(to_replace=np.nan,value='unknown')"
   ]
  },
  {
   "cell_type": "code",
   "execution_count": null,
   "id": "db97bb62",
   "metadata": {},
   "outputs": [],
   "source": [
    "df['cabin']"
   ]
  },
  {
   "cell_type": "code",
   "execution_count": null,
   "id": "8b1dbe12",
   "metadata": {},
   "outputs": [],
   "source": [
    "df['age'] = df['age'].interpolate()"
   ]
  },
  {
   "cell_type": "code",
   "execution_count": null,
   "id": "edb9d39e",
   "metadata": {},
   "outputs": [],
   "source": [
    "df['age']"
   ]
  },
  {
   "cell_type": "code",
   "execution_count": null,
   "id": "1bb5814b",
   "metadata": {},
   "outputs": [],
   "source": [
    "df.isnull().sum()"
   ]
  },
  {
   "cell_type": "code",
   "execution_count": null,
   "id": "e002f74d",
   "metadata": {},
   "outputs": [],
   "source": [
    "df['embarked'] = df['embarked'].replace(to_replace=np.nan,value='C')"
   ]
  },
  {
   "cell_type": "code",
   "execution_count": null,
   "id": "cb91b8c6",
   "metadata": {},
   "outputs": [],
   "source": [
    "df.isnull().sum()"
   ]
  },
  {
   "cell_type": "code",
   "execution_count": null,
   "id": "621bf193",
   "metadata": {},
   "outputs": [],
   "source": [
    "df.dtypes"
   ]
  },
  {
   "cell_type": "code",
   "execution_count": null,
   "id": "c2b746e0",
   "metadata": {},
   "outputs": [],
   "source": [
    "# Changing data type of age\n",
    "df['age'] = df['age'].astype('int64')"
   ]
  },
  {
   "cell_type": "code",
   "execution_count": null,
   "id": "aba0fb21",
   "metadata": {},
   "outputs": [],
   "source": [
    "df.dtypes"
   ]
  },
  {
   "cell_type": "code",
   "execution_count": null,
   "id": "3966e087",
   "metadata": {},
   "outputs": [],
   "source": [
    "# Turning catergorical variables into quantitive\n",
    "quantitative_data = pd.get_dummies(df['embarked'],prefix='Embarked')"
   ]
  },
  {
   "cell_type": "code",
   "execution_count": null,
   "id": "f47d209e",
   "metadata": {},
   "outputs": [],
   "source": [
    "quantitative_data"
   ]
  },
  {
   "cell_type": "code",
   "execution_count": null,
   "id": "a529f604",
   "metadata": {},
   "outputs": [],
   "source": [
    "# This will join both the tables\n",
    "df.join(quantitative_data)"
   ]
  },
  {
   "cell_type": "code",
   "execution_count": null,
   "id": "e740668c",
   "metadata": {},
   "outputs": [],
   "source": [
    "# This will drop the column with name embarked\n",
    "# axis 0 -> rows axis -> 1 columns\n",
    "# inplace will modify original dataframe\n",
    "df.drop('embarked',axis=1,inplace = True)\n",
    "df"
   ]
  },
  {
   "cell_type": "code",
   "execution_count": null,
   "id": "bb98603a",
   "metadata": {},
   "outputs": [],
   "source": [
    "df"
   ]
  },
  {
   "cell_type": "code",
   "execution_count": null,
   "id": "99bd7622",
   "metadata": {},
   "outputs": [],
   "source": [
    "df.insert(6,column='embarked',value='S')"
   ]
  },
  {
   "cell_type": "code",
   "execution_count": null,
   "id": "b8034c4d",
   "metadata": {},
   "outputs": [],
   "source": [
    "df"
   ]
  },
  {
   "cell_type": "code",
   "execution_count": null,
   "id": "776a09c1",
   "metadata": {},
   "outputs": [],
   "source": [
    "df.dtypes"
   ]
  },
  {
   "cell_type": "code",
   "execution_count": null,
   "id": "2b801311",
   "metadata": {},
   "outputs": [],
   "source": []
  }
 ],
 "metadata": {
  "kernelspec": {
   "display_name": "Python 3 (ipykernel)",
   "language": "python",
   "name": "python3"
  },
  "language_info": {
   "codemirror_mode": {
    "name": "ipython",
    "version": 3
   },
   "file_extension": ".py",
   "mimetype": "text/x-python",
   "name": "python",
   "nbconvert_exporter": "python",
   "pygments_lexer": "ipython3",
   "version": "3.10.6"
  }
 },
 "nbformat": 4,
 "nbformat_minor": 5
}
